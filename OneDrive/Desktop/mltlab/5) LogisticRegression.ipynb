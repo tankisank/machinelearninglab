{
 "cells": [
  {
   "cell_type": "code",
   "execution_count": 18,
   "id": "2b018c1d",
   "metadata": {},
   "outputs": [],
   "source": [
    "import pandas as pd\n",
    "import numpy as np\n",
    "from sklearn.model_selection import train_test_split\n",
    "from sklearn.preprocessing import StandardScaler\n",
    "from sklearn.linear_model import LogisticRegression\n",
    "from sklearn.metrics import classification_report,confusion_matrix"
   ]
  },
  {
   "cell_type": "code",
   "execution_count": 11,
   "id": "30b6b7f9",
   "metadata": {},
   "outputs": [
    {
     "name": "stdout",
     "output_type": "stream",
     "text": [
      "         diagnosis  radius_mean  texture_mean  perimeter_mean  area_mean  \\\n",
      "id                                                                         \n",
      "842302           M        17.99         10.38          122.80     1001.0   \n",
      "842517           M        20.57         17.77          132.90     1326.0   \n",
      "84300903         M        19.69         21.25          130.00     1203.0   \n",
      "84348301         M        11.42         20.38           77.58      386.1   \n",
      "84358402         M        20.29         14.34          135.10     1297.0   \n",
      "\n",
      "          smoothness_mean  compactness_mean  concavity_mean  \\\n",
      "id                                                            \n",
      "842302            0.11840           0.27760          0.3001   \n",
      "842517            0.08474           0.07864          0.0869   \n",
      "84300903          0.10960           0.15990          0.1974   \n",
      "84348301          0.14250           0.28390          0.2414   \n",
      "84358402          0.10030           0.13280          0.1980   \n",
      "\n",
      "          concave points_mean  symmetry_mean  ...  texture_worst  \\\n",
      "id                                            ...                  \n",
      "842302                0.14710         0.2419  ...          17.33   \n",
      "842517                0.07017         0.1812  ...          23.41   \n",
      "84300903              0.12790         0.2069  ...          25.53   \n",
      "84348301              0.10520         0.2597  ...          26.50   \n",
      "84358402              0.10430         0.1809  ...          16.67   \n",
      "\n",
      "          perimeter_worst  area_worst  smoothness_worst  compactness_worst  \\\n",
      "id                                                                           \n",
      "842302             184.60      2019.0            0.1622             0.6656   \n",
      "842517             158.80      1956.0            0.1238             0.1866   \n",
      "84300903           152.50      1709.0            0.1444             0.4245   \n",
      "84348301            98.87       567.7            0.2098             0.8663   \n",
      "84358402           152.20      1575.0            0.1374             0.2050   \n",
      "\n",
      "          concavity_worst  concave points_worst  symmetry_worst  \\\n",
      "id                                                                \n",
      "842302             0.7119                0.2654          0.4601   \n",
      "842517             0.2416                0.1860          0.2750   \n",
      "84300903           0.4504                0.2430          0.3613   \n",
      "84348301           0.6869                0.2575          0.6638   \n",
      "84358402           0.4000                0.1625          0.2364   \n",
      "\n",
      "          fractal_dimension_worst  Unnamed: 32  \n",
      "id                                              \n",
      "842302                    0.11890          NaN  \n",
      "842517                    0.08902          NaN  \n",
      "84300903                  0.08758          NaN  \n",
      "84348301                  0.17300          NaN  \n",
      "84358402                  0.07678          NaN  \n",
      "\n",
      "[5 rows x 32 columns]\n"
     ]
    }
   ],
   "source": [
    "df = pd.read_csv('cancer.csv',index_col = 'id')\n",
    "print(df.head())"
   ]
  },
  {
   "cell_type": "code",
   "execution_count": 41,
   "id": "ea06285a",
   "metadata": {},
   "outputs": [
    {
     "name": "stdout",
     "output_type": "stream",
     "text": [
      "         0         1         2         3         4         5         6   \\\n",
      "0  1.097064 -2.073335  1.269934  0.984375  1.568466  3.283515  2.652874   \n",
      "1  1.829821 -0.353632  1.685955  1.908708 -0.826962 -0.487072 -0.023846   \n",
      "2  1.579888  0.456187  1.566503  1.558884  0.942210  1.052926  1.363478   \n",
      "3 -0.768909  0.253732 -0.592687 -0.764464  3.283553  3.402909  1.915897   \n",
      "4  1.750297 -1.151816  1.776573  1.826229  0.280372  0.539340  1.371011   \n",
      "\n",
      "         7         8         9   ...        20        21        22        23  \\\n",
      "0  2.532475  2.217515  2.255747  ...  1.886690 -1.359293  2.303601  2.001237   \n",
      "1  0.548144  0.001392 -0.868652  ...  1.805927 -0.369203  1.535126  1.890489   \n",
      "2  2.037231  0.939685 -0.398008  ...  1.511870 -0.023974  1.347475  1.456285   \n",
      "3  1.451707  2.867383  4.910919  ... -0.281464  0.133984 -0.249939 -0.550021   \n",
      "4  1.428493 -0.009560 -0.562450  ...  1.298575 -1.466770  1.338539  1.220724   \n",
      "\n",
      "         24        25        26        27        28        29  \n",
      "0  1.307686  2.616665  2.109526  2.296076  2.750622  1.937015  \n",
      "1 -0.375612 -0.430444 -0.146749  1.087084 -0.243890  0.281190  \n",
      "2  0.527407  1.082932  0.854974  1.955000  1.152255  0.201391  \n",
      "3  3.394275  3.893397  1.989588  2.175786  6.046041  4.935010  \n",
      "4  0.220556 -0.313395  0.613179  0.729259 -0.868353 -0.397100  \n",
      "\n",
      "[5 rows x 30 columns] id\n",
      "842302      M\n",
      "842517      M\n",
      "84300903    M\n",
      "84348301    M\n",
      "84358402    M\n",
      "Name: diagnosis, dtype: object\n"
     ]
    }
   ],
   "source": [
    "x = df.drop(['Unnamed: 32','diagnosis'],axis = 1)\n",
    "y = df['diagnosis']\n",
    "ss = StandardScaler()\n",
    "x = pd.DataFrame(ss.fit_transform(x))\n",
    "print(x.head(),y.head())"
   ]
  },
  {
   "cell_type": "code",
   "execution_count": 42,
   "id": "73259cca",
   "metadata": {},
   "outputs": [],
   "source": [
    "x_train,x_test,y_train,y_test = train_test_split(x,y,test_size = 0.2,random_state = 42)"
   ]
  },
  {
   "cell_type": "code",
   "execution_count": 49,
   "id": "5556de8f",
   "metadata": {},
   "outputs": [
    {
     "name": "stdout",
     "output_type": "stream",
     "text": [
      "0.9736842105263158\n"
     ]
    }
   ],
   "source": [
    "cls = LogisticRegression()\n",
    "cls.fit(x_train,y_train)\n",
    "pred = cls.predict(x_test)\n",
    "print(cls.score(x_test,y_test))"
   ]
  },
  {
   "cell_type": "code",
   "execution_count": 47,
   "id": "99416640",
   "metadata": {},
   "outputs": [
    {
     "name": "stdout",
     "output_type": "stream",
     "text": [
      "              precision    recall  f1-score   support\n",
      "\n",
      "           B       0.97      0.99      0.98        71\n",
      "           M       0.98      0.95      0.96        43\n",
      "\n",
      "    accuracy                           0.97       114\n",
      "   macro avg       0.97      0.97      0.97       114\n",
      "weighted avg       0.97      0.97      0.97       114\n",
      "\n"
     ]
    }
   ],
   "source": [
    "print(classification_report(y_test,pred))"
   ]
  },
  {
   "cell_type": "code",
   "execution_count": 48,
   "id": "8beb8d84",
   "metadata": {},
   "outputs": [
    {
     "name": "stdout",
     "output_type": "stream",
     "text": [
      "[[70  1]\n",
      " [ 2 41]]\n"
     ]
    }
   ],
   "source": [
    "print(confusion_matrix(y_test,pred))"
   ]
  }
 ],
 "metadata": {
  "kernelspec": {
   "display_name": "Python 3",
   "language": "python",
   "name": "python3"
  },
  "language_info": {
   "codemirror_mode": {
    "name": "ipython",
    "version": 3
   },
   "file_extension": ".py",
   "mimetype": "text/x-python",
   "name": "python",
   "nbconvert_exporter": "python",
   "pygments_lexer": "ipython3",
   "version": "3.8.8"
  }
 },
 "nbformat": 4,
 "nbformat_minor": 5
}
